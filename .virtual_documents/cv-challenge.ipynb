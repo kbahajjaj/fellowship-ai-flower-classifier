


# Check torch version and CUDA status if GPU is enabled.
import torch
print(torch.__version__)
print(torch.cuda.is_available()) # Should return True when GPU is enabled. 








%matplotlib inline
%config InlineBackend.figure_format = 'retina'

import matplotlib.pyplot as plt
import numpy as np
import time

import torch
from torch import nn, optim
import torch.nn.functional as F

from torchvision import datasets, transforms, models
from collections import OrderedDict











data_dir = 'flowers'
train_dir = data_dir + '/train'
valid_dir = data_dir + '/valid'
test_dir = data_dir + '/test'


# TODO: Define your transforms for the training, validation, and testing sets
train_transforms = transforms.Compose([transforms.RandomRotation(30),
                                       transforms.RandomResizedCrop(224),
                                       transforms.RandomHorizontalFlip(),
                                       transforms.ToTensor(),
                                       transforms.Normalize([0.485, 0.456, 0.406],
                                                            [0.229, 0.224, 0.225])])

valid_transforms = transforms.Compose([transforms.Resize(255),
                                      transforms.CenterCrop(224),
                                      transforms.ToTensor(),
                                      transforms.Normalize([0.485, 0.456, 0.406],
                                                           [0.229, 0.224, 0.225])])

test_transforms = transforms.Compose([transforms.Resize(255),
                                      transforms.CenterCrop(224),
                                      transforms.ToTensor(),
                                      transforms.Normalize([0.485, 0.456, 0.406],
                                                           [0.229, 0.224, 0.225])])

# TODO: Load the datasets with ImageFolder
train_data = datasets.ImageFolder(data_dir + '/train', transform=train_transforms)
valid_data = datasets.ImageFolder(data_dir + '/valid', transform=valid_transforms)
test_data = datasets.ImageFolder(data_dir + '/test', transform=test_transforms) 

# TODO: Using the image datasets and the trainforms, define the dataloaders
trainloader = torch.utils.data.DataLoader(train_data, batch_size=64, shuffle=True)
validloader = torch.utils.data.DataLoader(valid_data, batch_size=64)
testloader = torch.utils.data.DataLoader(test_data, batch_size=64)





import json

with open('cat_to_name.json', 'r') as f:
    cat_to_name = json.load(f)





# Load a pre-trained network
model = models.densenet121(pretrained=True)

# Freeze parameters of pre-trained network
for param in model.parameters():
    param.requires_grad = False
#model
#model.classifier.in_features


# Define an untrained classifier and replace the model's pre-trained classifer with it
classifier = nn.Sequential(OrderedDict([
                          ('fc1', nn.Linear(1024, 512)),
                          ('relu', nn.ReLU()),
                          ('drop1', nn.Dropout(0.2)),
                          ('fc2', nn.Linear(512, 256)),
                          ('relu', nn.ReLU()),
                          ('drop2', nn.Dropout(0.2)),
                          ('fc3', nn.Linear(256, 102)),
                          ('output', nn.LogSoftmax(dim=1))
                          ]))


# Replace VGG16 classifier by our untrained classifier
model.classifier = classifier


# Set training hyperparameters
criterion = nn.NLLLoss()
learning_rate = 0.001
optimizer = optim.Adam(model.classifier.parameters(), lr=learning_rate)


# Set training initial values
epochs = 5
steps = 0
print_every = 32
running_loss = 0


# Train the classifier layers then validate by evaluating accuracy

# Use GPU if it's available
device = torch.device("cuda" if torch.cuda.is_available() else "cpu")
model.to(device);

start = time.time()

#train & validate classifier
for e in range(epochs):
    
    for images, labels in trainloader:
        steps += 1
        
        # Move images and label tensors to the default device
        images, labels = images.to(device), labels.to(device)
        
        optimizer.zero_grad()
        
        log_ps = model(images)
        loss = criterion(log_ps, labels)
        loss.backward()
        optimizer.step()
        
        # calculate training error
        running_loss += loss.item()
        
        # Validate the network after every "print_every" steps 
        if steps % print_every == 0:
            valid_loss = 0
            accuracy = 0

            # disable dropout during validation
            model.eval()
        
            # Turn off gradient calculation during validation
            with torch.no_grad():
                for images, labels in validloader:
                    images, labels = images.to(device), labels.to(device)
                    
                    # Calculate validation error
                    log_ps = model(images)
                    loss = criterion(log_ps, labels)
                    valid_loss += loss.item()
                
                    # Calculate accuracy
                    ps = torch.exp(log_ps)
                    top_p, top_class = ps.topk(1, dim=1)
                    equals = top_class == labels.view(*top_class.shape)
                    accuracy += torch.mean(equals.type(torch.FloatTensor)).item()
        
            print("Epoch: {}/{}.. ".format(e+1, epochs),
                  "Training Loss: {:.3f}.. ".format(running_loss/print_every),
                  "Validation Loss: {:.3f}.. ".format(valid_loss/len(validloader)),
                  "Validation Accuracy: {:.3f}".format(accuracy/len(validloader)))

            running_loss = 0
            # Enable training mode again for the next "print_every" steps
            model.train()


# Training & Validation time calculation:
seconds = time.time() - start
m, s =  divmod(seconds, 60)
h, m = divmod(m, 60)
print(f'Total Training Time: {h:1.0f} hr :{m:2.0f} min :{s:2.0f} sec')





# Testing your network
start = time.time()
test_loss = 0
accuracy = 0
model.eval() # disable dropout during Testing

# Turn off gradient calculation during Testing
with torch.no_grad():
    for images, labels in testloader:
        images, labels = images.to(device), labels.to(device)
        
        # Calculate accuracy
        log_ps = model(images)
        ps = torch.exp(log_ps)
        top_p, top_class = ps.topk(1, dim=1)
        equals = top_class == labels.view(*top_class.shape)
        accuracy += torch.mean(equals.type(torch.FloatTensor)).item()

print("Testing Accuracy: {:.3f}".format(accuracy/len(testloader)))

# Enable training mode again 
model.train(); 


# Testing time calculation:
seconds = time.time() - start
m, s =  divmod(seconds, 60)
h, m = divmod(m, 60)
print(f'Total Testing Time: {h:1.0f} hr :{m:2.0f} min :{s:2.0f} sec')





# Save the checkpoint
model.class_to_idx = train_data.class_to_idx
checkpoint = {'arch': 'densenet121',
              'classifier': model.classifier,
              'optimizer': optimizer.state_dict(),
              'state_dict': model.state_dict(),
              'class_to_idx': model.class_to_idx,
              'learning_rate': learning_rate,
              'epochs': epochs}


torch.save(checkpoint, 'checkpoint.pth')





# Loading the checkpoint
# Load a pre-trained network with saved architecture
checkpoint = torch.load('checkpoint.pth')
loaded_model = eval('models.' + checkpoint['arch'] + '(pretrained=True)')
#loaded_model = models.eval(architecture)(pretrained=True)

# Freeze parameters of pre-trained network
for param in model.parameters():
    param.requires_grad = False

loaded_model.classifier = checkpoint['classifier']         # Replace densenet121 classifier structure
loaded_model.load_state_dict(checkpoint['state_dict'])     # Load weights & biases
loaded_model.class_to_idx = checkpoint['class_to_idx']     # Load classes to indices mapping

optimizer = optim.Adam(loaded_model.classifier.parameters(), checkpoint['learning_rate'])
optimizer.load_state_dict(checkpoint['optimizer'])         # Load optimizer state

model;





def process_image(image):
    ''' Scales, crops, and normalizes a PIL image for a PyTorch model,
        returns an Numpy array
    '''
    # 1. Resize such that the shortest side is 256 pixes
    w_max, h_max = image.size

    if w_max > h_max:
        image.thumbnail((w_max, 256))
    else:
        image.thumbnail((256, h_max))
        
    # 2. Crop out center portion of image
    w, h = image.size
    w_new, h_new = 224, 224
    
    l = (w - w_new) // 2
    t = (h - h_new) // 2
    r = l + w_new
    b = t + h_new
    
    image = image.crop((l, t, r, b))
    
    # 3. Normalize color channels to 0->1 range
    np_image = np.array(image)
    np_image = np_image/255
    
    # 4. Normalize image mean and standard deviation 
    mean = np.array([0.485, 0.456, 0.406])
    std = np.array([0.229, 0.224, 0.225])
    np_image = (np_image - mean)/std
    
    # 5. Move color channel from 3rd dimension (as in PIL) to 1st dimension for PyTorch
    np_image = np_image.transpose((2, 0, 1))

    return np_image





def imshow(image, ax=None, title=None):
    """Imshow for Tensor."""
    if ax is None:
        fig, ax = plt.subplots()
    
    # PyTorch tensors assume the color channel is the first dimension
    # but matplotlib assumes is the third dimension
    image = image.transpose((1, 2, 0))
    
    # Undo preprocessing
    mean = np.array([0.485, 0.456, 0.406])
    std = np.array([0.229, 0.224, 0.225])
    image = std * image + mean
    
    # Image needs to be clipped between 0 and 1 or it looks like noise when displayed
    image = np.clip(image, 0, 1)
    
    ax.imshow(image)
    
    return ax


# Check Image Processing
from PIL import Image
image_path = 'flowers/test/10/image_07090.jpg'
img = Image.open(image_path)
img.show()
img2 = process_image(img)
imshow(img2)





def predict(image_path, model, topk=5):
    ''' Predict the class (or classes) of an image using a trained deep learning model.
    '''
    device = torch.device("cuda" if torch.cuda.is_available() else "cpu")
    loaded_model.to(device)
    
    model.eval()
    img = Image.open(image_path)
    
    # image -> numpy array
    np_img = process_image(img)
    
    # numpy array -> torch tensor
    tensor_img = torch.from_numpy(np_img).type(torch.FloatTensor)
    tensor_img.unsqueeze_(0)   # adding 1 dimension of 1 to the beginning of the tensor for the batch size
    tensor_img = tensor_img.to(device)
    

    with torch.no_grad():
        # Top 5 predictions
        log_ps = loaded_model(tensor_img)
        ps = torch.exp(log_ps)
        top_probs, top_indices = ps.topk(5, dim=1)
        
        #print(f'top_probs = {top_probs}, \n, top_indices = {top_indices}')
        
        # Convert probabilities and indices from tensors -> lists
        top_probs = top_probs.tolist()[0]
        top_indices = top_indices.tolist()[0]
        
        #print(f'top_probs = {top_probs}, \n, top_indices = {top_indices}')
        #print(f'top_probs_list = {top_probs_list}, \n, top_indices_list = {top_indices_list}, \n, {top_probs_list[3]}')
        
        # Inverting class_to_idx by generating idx_to_class using dictionary comprehensions
        idx_to_class = {value:key for (key, value) in model.class_to_idx.items()}
        #print(idx_to_class, '\n', type(idx_to_class[3]))
        
        # Mapping top indices to top_classes and top categories (flower names)
        top_classes = []
        top_categ = []
        top_dic = dict()
        
        # making a nestested dictionary to get name of flower with top probability
        for count, idx in enumerate(top_indices):
            top_classes.append(idx_to_class[idx])
            top_categ.append(cat_to_name[idx_to_class[idx]])
            top_dic[top_probs[count]] = {'class': top_classes[-1], 'categ': top_categ[-1]}
            
        top_flower = top_dic[max(top_probs)]['categ']
    
    model.train();
    
    return top_probs, top_classes, top_categ, top_flower






# Display the top K=5 probabilities and their classes
image_path = 'flowers/test/28/image_05230.jpg'
k_probs, k_classes, k_categ, t_flr = predict(image_path, loaded_model)

print(f'K_Probabilities:\n    {k_probs}\nK_Classes:\n    {k_classes}\nK_Categories:\n    {k_categ}\nTop_Flower: {t_flr}\n')


# plot the probabilities for the top 5 classes as a bar graph
from PIL import Image
img = Image.open(image_path)
img2 = process_image(img)
fig, ax = plt.subplots(nrows=2, ncols=1, figsize=(4, 8))
imshow(img2, ax[0], title=str(t_flr))
ax[0].set_title(t_flr)
ax[1].barh(k_categ, k_probs)
ax[1].set_xlabel('Probabilities')
ax[1].set_ylabel('top K flowers')
ax[1]
ax[1].invert_yaxis();





# TODO remove .pth files or move it to a temporary `~/opt` directory in this Workspace



