{
 "cells": [
  {
   "cell_type": "markdown",
   "id": "128659a9-3986-4fc8-a62e-d2c2d365bfae",
   "metadata": {},
   "source": [
    "### 1. Importing Necessary Package"
   ]
  },
  {
   "cell_type": "code",
   "execution_count": 1,
   "id": "172c774a-2902-4423-81b7-212e194909b5",
   "metadata": {},
   "outputs": [
    {
     "ename": "ModuleNotFoundError",
     "evalue": "No module named 'torchvision'",
     "output_type": "error",
     "traceback": [
      "\u001b[1;31m---------------------------------------------------------------------------\u001b[0m",
      "\u001b[1;31mModuleNotFoundError\u001b[0m                       Traceback (most recent call last)",
      "Cell \u001b[1;32mIn[1], line 15\u001b[0m\n\u001b[0;32m     12\u001b[0m \u001b[38;5;28;01mfrom\u001b[39;00m \u001b[38;5;21;01mtorch\u001b[39;00m \u001b[38;5;28;01mimport\u001b[39;00m nn, optim\n\u001b[0;32m     13\u001b[0m \u001b[38;5;28;01mimport\u001b[39;00m \u001b[38;5;21;01mtorch\u001b[39;00m\u001b[38;5;21;01m.\u001b[39;00m\u001b[38;5;21;01mnn\u001b[39;00m\u001b[38;5;21;01m.\u001b[39;00m\u001b[38;5;21;01mfunctional\u001b[39;00m \u001b[38;5;28;01mas\u001b[39;00m \u001b[38;5;21;01mF\u001b[39;00m\n\u001b[1;32m---> 15\u001b[0m \u001b[38;5;28;01mfrom\u001b[39;00m \u001b[38;5;21;01mtorchvision\u001b[39;00m \u001b[38;5;28;01mimport\u001b[39;00m datasets, transforms, models\n\u001b[0;32m     16\u001b[0m \u001b[38;5;28;01mfrom\u001b[39;00m \u001b[38;5;21;01mcollections\u001b[39;00m \u001b[38;5;28;01mimport\u001b[39;00m OrderedDict\n",
      "\u001b[1;31mModuleNotFoundError\u001b[0m: No module named 'torchvision'"
     ]
    }
   ],
   "source": [
    "%matplotlib inline\n",
    "%config InlineBackend.figure_format = 'retina'\n",
    "\n",
    "import scipy.io\n",
    "import pandas as pd\n",
    "import numpy as np\n",
    "import matplotlib.pyplot as plt\n",
    "import time\n",
    "import os\n",
    "\n",
    "import torch\n",
    "from torch import nn, optim\n",
    "import torch.nn.functional as F\n",
    "\n",
    "from torch import tochvision\n",
    "from torchvision import datasets, transforms, models\n",
    "from collections import OrderedDict"
   ]
  },
  {
   "cell_type": "markdown",
   "id": "779d9b0c-622c-4d13-9b13-5a17bf818a56",
   "metadata": {},
   "source": [
    "### 2. Loading Data"
   ]
  },
  {
   "cell_type": "code",
   "execution_count": null,
   "id": "b1cfd316-9133-4b63-a12d-2cd975304a81",
   "metadata": {},
   "outputs": [],
   "source": [
    "labels_mat = scipy.io.loadmat('imagelabels.mat')\n",
    "splits_mat = scipy.io.loadmat('setid.mat')"
   ]
  },
  {
   "cell_type": "code",
   "execution_count": null,
   "id": "8bb4e93d-af26-4776-842f-847f7d23cc83",
   "metadata": {},
   "outputs": [],
   "source": [
    "label_indices = np.squeeze(labels_mat['labels'])\n",
    "train_indices = np.squeeze(splits_mat['trnid'])\n",
    "valid_indices = np.squeeze(splits_mat['valid'])\n",
    "test_indices = np.squeeze(splits_mat['tstid'])\n",
    "print(label_indices.shape)"
   ]
  },
  {
   "cell_type": "code",
   "execution_count": null,
   "id": "19c7b2b0-244c-4d97-8a23-ccb3c1a3401a",
   "metadata": {},
   "outputs": [],
   "source": [
    "# Building training, validation, and testing filename lists:\n",
    "train_files = [f'image_{x:05d}.jpg' for x in train_indices]\n",
    "valid_files = [f'image_{x:05d}.jpg' for x in train_indices]\n",
    "test_files = [f'image_{x:05d}.jpg' for x in train_indices]\n",
    "print(train_files[0:3])"
   ]
  },
  {
   "cell_type": "code",
   "execution_count": 4,
   "id": "365ceb9d-4ce3-4501-957f-fab45c51d40c",
   "metadata": {},
   "outputs": [
    {
     "name": "stdout",
     "output_type": "stream",
     "text": [
      "Collecting wget\n",
      "  Downloading wget-3.2.zip (10 kB)\n",
      "  Preparing metadata (setup.py): started\n",
      "  Preparing metadata (setup.py): finished with status 'done'\n",
      "Building wheels for collected packages: wget\n",
      "  Building wheel for wget (setup.py): started\n",
      "  Building wheel for wget (setup.py): finished with status 'done'\n",
      "  Created wheel for wget: filename=wget-3.2-py3-none-any.whl size=9680 sha256=c1429312f237cd2fbcc42b845e67dc60f89b6c73021a26d25c00a82a7c9aa9bf\n",
      "  Stored in directory: c:\\users\\aastmt\\appdata\\local\\pip\\cache\\wheels\\40\\b3\\0f\\a40dbd1c6861731779f62cc4babcb234387e11d697df70ee97\n",
      "Successfully built wget\n",
      "Installing collected packages: wget\n",
      "Successfully installed wget-3.2\n"
     ]
    },
    {
     "name": "stderr",
     "output_type": "stream",
     "text": [
      "'wget' is not recognized as an internal or external command,\n",
      "operable program or batch file.\n",
      "unlink: cannot unlink 'flowers': Is a directory\n",
      "A subdirectory or file flowers already exists.\n"
     ]
    }
   ],
   "source": [
    "output_location = 'flowers'\n"
   ]
  }
 ],
 "metadata": {
  "kernelspec": {
   "display_name": "Python 3 (ipykernel)",
   "language": "python",
   "name": "python3"
  },
  "language_info": {
   "codemirror_mode": {
    "name": "ipython",
    "version": 3
   },
   "file_extension": ".py",
   "mimetype": "text/x-python",
   "name": "python",
   "nbconvert_exporter": "python",
   "pygments_lexer": "ipython3",
   "version": "3.11.7"
  }
 },
 "nbformat": 4,
 "nbformat_minor": 5
}
